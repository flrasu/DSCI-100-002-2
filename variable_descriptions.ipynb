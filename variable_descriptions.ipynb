{
 "cells": [
  {
   "cell_type": "markdown",
   "id": "eed17d92-bec6-4be7-8b30-b98c75182ec7",
   "metadata": {},
   "source": [
    "Variable Descriptions\n",
    "> Age: Age of patient (years)  \n",
    "> Sex: Sex assigned at birth (M: Male, F: Female)  \n",
    ">> Convert M to 0 and F to 1  \n",
    "\n",
    "> ChestPainType: Chest pain type  \n",
    ">> TA: Typical angina  \n",
    ">> ATA: Atypical angina  \n",
    ">> NAP: Non-anginal pain  \n",
    ">> ASY: Asymptomatic  \n",
    "\n",
    "> RestingBP: Resting blood pressure (mmHg)  \n",
    "> Cholesterol: Serum cholesterol (mm/dl)  \n",
    "> FastingBS: Fasting blood sugar (1: fasting blood pressure  120, else 0)  \n",
    "> Resting ECG: resting electrocardiogram  \n",
    ">> Normal: Normal  \n",
    ">> ST: ST-T wave abnormality  \n",
    ">> LVH: Left ventricular hypertrophy  \n",
    "\n",
    "> MaxHR: Maximum heart rate (range 60-202)  \n",
    "> ExerciseAngina: Exercise-induced angina (Y: yes, N:no)  \n",
    ">> Convert Y to 1 and N to 0  \n",
    "\n",
    "> Oldpeak: Oldpeak (idk what this is)  \n",
    "> ST_Slope: Slope of peak exercise segment (also dk what this is)  \n",
    "> HeartDisease: Output class (1: heart disease, 0: normal)"
   ]
  },
  {
   "cell_type": "code",
   "execution_count": null,
   "id": "c8b2bb79-74d9-4278-b041-9da8dd2add73",
   "metadata": {},
   "outputs": [],
   "source": []
  }
 ],
 "metadata": {
  "kernelspec": {
   "display_name": "R",
   "language": "R",
   "name": "ir"
  },
  "language_info": {
   "codemirror_mode": "r",
   "file_extension": ".r",
   "mimetype": "text/x-r-source",
   "name": "R",
   "pygments_lexer": "r",
   "version": "4.1.3"
  }
 },
 "nbformat": 4,
 "nbformat_minor": 5
}
