{
 "cells": [
  {
   "cell_type": "markdown",
   "id": "23c53d15-8d0c-494a-8da3-a6f4a7677eba",
   "metadata": {},
   "source": [
    "Title\n",
    "\n",
    "Introduction:\n",
    "Provide some relevant background information on the topic so that someone unfamiliar with it will be prepared to understand the rest of your proposal\n",
    "Clearly state the question you will try to answer with your project\n",
    "Identify and describe the dataset that will be used to answer the question\n",
    "\n",
    "Preliminary exploratory data analysis:\n",
    "Demonstrate that the dataset can be read from the web into R \n",
    "Clean and wrangle your data into a tidy format\n",
    "Using only training data, summarize the data in at least one table (this is exploratory data analysis). An example of a useful table could be one that reports the number of observations in each class, the means of the predictor variables you plan to use in your analysis and how many rows have missing data. \n",
    "Using only training data, visualize the data with at least one plot relevant to the analysis you plan to do (this is exploratory data analysis). An example of a useful visualization could be one that compares the distributions of each of the predictor variables you plan to use in your analysis.\n",
    "\n",
    "Methods:\n",
    "Explain how you will conduct either your data analysis and which variables/columns you will use. Note - you do not need to use all variables/columns that exist in the raw data set. In fact, that's often not a good idea. For each variable think: is this a useful variable for prediction?\n",
    "Describe at least one way that you will visualize the results\n",
    "\n",
    "Expected outcomes and significance:\n",
    "What do you expect to find?\n",
    "What impact could such findings have?\n",
    "What future questions could this lead to?"
   ]
  },
  {
   "cell_type": "code",
   "execution_count": 7,
   "id": "2643d1dd-ad7e-4334-85c6-48a4c1b6c038",
   "metadata": {},
   "outputs": [],
   "source": [
    "library(rvest)\n",
    "library(tidyverse)\n",
    "library(repr)\n",
    "library(readxl)\n",
    "library(tidymodels)\n",
    "options(repr.matrix.max.rows = 6)"
   ]
  },
  {
   "cell_type": "code",
   "execution_count": 32,
   "id": "f080147d-be8b-4443-a00c-1ac4a3cbc689",
   "metadata": {},
   "outputs": [
    {
     "name": "stderr",
     "output_type": "stream",
     "text": [
      "\u001b[1mRows: \u001b[22m\u001b[34m918\u001b[39m \u001b[1mColumns: \u001b[22m\u001b[34m12\u001b[39m\n",
      "\u001b[36m──\u001b[39m \u001b[1mColumn specification\u001b[22m \u001b[36m────────────────────────────────────────────────────────\u001b[39m\n",
      "\u001b[1mDelimiter:\u001b[22m \",\"\n",
      "\u001b[31mchr\u001b[39m (5): Sex, ChestPainType, RestingECG, ExerciseAngina, ST_Slope\n",
      "\u001b[32mdbl\u001b[39m (7): Age, RestingBP, Cholesterol, FastingBS, MaxHR, Oldpeak, HeartDisease\n",
      "\n",
      "\u001b[36mℹ\u001b[39m Use `spec()` to retrieve the full column specification for this data.\n",
      "\u001b[36mℹ\u001b[39m Specify the column types or set `show_col_types = FALSE` to quiet this message.\n"
     ]
    },
    {
     "data": {
      "text/html": [
       "<table class=\"dataframe\">\n",
       "<caption>A tibble: 61 × 8</caption>\n",
       "<thead>\n",
       "\t<tr><th scope=col>Age</th><th scope=col>Sex</th><th scope=col>RestingBP</th><th scope=col>Cholesterol</th><th scope=col>RestingECG</th><th scope=col>MaxHR</th><th scope=col>ExerciseAngina</th><th scope=col>HeartDisease</th></tr>\n",
       "\t<tr><th scope=col>&lt;dbl&gt;</th><th scope=col>&lt;fct&gt;</th><th scope=col>&lt;dbl&gt;</th><th scope=col>&lt;dbl&gt;</th><th scope=col>&lt;fct&gt;</th><th scope=col>&lt;dbl&gt;</th><th scope=col>&lt;fct&gt;</th><th scope=col>&lt;fct&gt;</th></tr>\n",
       "</thead>\n",
       "<tbody>\n",
       "\t<tr><td>28</td><td>M</td><td>130</td><td>132</td><td>LVH   </td><td>185</td><td>N</td><td>0</td></tr>\n",
       "\t<tr><td>29</td><td>M</td><td>120</td><td>243</td><td>Normal</td><td>160</td><td>N</td><td>0</td></tr>\n",
       "\t<tr><td>29</td><td>M</td><td>140</td><td>263</td><td>Normal</td><td>170</td><td>N</td><td>0</td></tr>\n",
       "\t<tr><td>⋮</td><td>⋮</td><td>⋮</td><td>⋮</td><td>⋮</td><td>⋮</td><td>⋮</td><td>⋮</td></tr>\n",
       "\t<tr><td>39</td><td>M</td><td>120</td><td>200</td><td>Normal</td><td>160</td><td>Y</td><td>0</td></tr>\n",
       "\t<tr><td>39</td><td>M</td><td>118</td><td>219</td><td>Normal</td><td>140</td><td>N</td><td>1</td></tr>\n",
       "\t<tr><td>39</td><td>M</td><td>140</td><td>321</td><td>LVH   </td><td>182</td><td>N</td><td>0</td></tr>\n",
       "</tbody>\n",
       "</table>\n"
      ],
      "text/latex": [
       "A tibble: 61 × 8\n",
       "\\begin{tabular}{llllllll}\n",
       " Age & Sex & RestingBP & Cholesterol & RestingECG & MaxHR & ExerciseAngina & HeartDisease\\\\\n",
       " <dbl> & <fct> & <dbl> & <dbl> & <fct> & <dbl> & <fct> & <fct>\\\\\n",
       "\\hline\n",
       "\t 28 & M & 130 & 132 & LVH    & 185 & N & 0\\\\\n",
       "\t 29 & M & 120 & 243 & Normal & 160 & N & 0\\\\\n",
       "\t 29 & M & 140 & 263 & Normal & 170 & N & 0\\\\\n",
       "\t ⋮ & ⋮ & ⋮ & ⋮ & ⋮ & ⋮ & ⋮ & ⋮\\\\\n",
       "\t 39 & M & 120 & 200 & Normal & 160 & Y & 0\\\\\n",
       "\t 39 & M & 118 & 219 & Normal & 140 & N & 1\\\\\n",
       "\t 39 & M & 140 & 321 & LVH    & 182 & N & 0\\\\\n",
       "\\end{tabular}\n"
      ],
      "text/markdown": [
       "\n",
       "A tibble: 61 × 8\n",
       "\n",
       "| Age &lt;dbl&gt; | Sex &lt;fct&gt; | RestingBP &lt;dbl&gt; | Cholesterol &lt;dbl&gt; | RestingECG &lt;fct&gt; | MaxHR &lt;dbl&gt; | ExerciseAngina &lt;fct&gt; | HeartDisease &lt;fct&gt; |\n",
       "|---|---|---|---|---|---|---|---|\n",
       "| 28 | M | 130 | 132 | LVH    | 185 | N | 0 |\n",
       "| 29 | M | 120 | 243 | Normal | 160 | N | 0 |\n",
       "| 29 | M | 140 | 263 | Normal | 170 | N | 0 |\n",
       "| ⋮ | ⋮ | ⋮ | ⋮ | ⋮ | ⋮ | ⋮ | ⋮ |\n",
       "| 39 | M | 120 | 200 | Normal | 160 | Y | 0 |\n",
       "| 39 | M | 118 | 219 | Normal | 140 | N | 1 |\n",
       "| 39 | M | 140 | 321 | LVH    | 182 | N | 0 |\n",
       "\n"
      ],
      "text/plain": [
       "   Age Sex RestingBP Cholesterol RestingECG MaxHR ExerciseAngina HeartDisease\n",
       "1  28  M   130       132         LVH        185   N              0           \n",
       "2  29  M   120       243         Normal     160   N              0           \n",
       "3  29  M   140       263         Normal     170   N              0           \n",
       "⋮  ⋮   ⋮   ⋮         ⋮           ⋮          ⋮     ⋮              ⋮           \n",
       "59 39  M   120       200         Normal     160   Y              0           \n",
       "60 39  M   118       219         Normal     140   N              1           \n",
       "61 39  M   140       321         LVH        182   N              0           "
      ]
     },
     "metadata": {},
     "output_type": "display_data"
    },
    {
     "data": {
      "text/html": [
       "<table class=\"dataframe\">\n",
       "<caption>A tibble: 61 × 8</caption>\n",
       "<thead>\n",
       "\t<tr><th scope=col>scaled_age</th><th scope=col>Sex</th><th scope=col>scaled_BP</th><th scope=col>scaled_cholesterol</th><th scope=col>RestingECG</th><th scope=col>scaled_HR_max</th><th scope=col>ExerciseAngina</th><th scope=col>HeartDisease</th></tr>\n",
       "\t<tr><th scope=col>&lt;dbl[,1]&gt;</th><th scope=col>&lt;fct&gt;</th><th scope=col>&lt;dbl[,1]&gt;</th><th scope=col>&lt;dbl[,1]&gt;</th><th scope=col>&lt;fct&gt;</th><th scope=col>&lt;dbl[,1]&gt;</th><th scope=col>&lt;fct&gt;</th><th scope=col>&lt;fct&gt;</th></tr>\n",
       "</thead>\n",
       "<tbody>\n",
       "\t<tr><td>-2.749129</td><td>M</td><td> 0.3176019</td><td>-0.7484786</td><td>LVH   </td><td>1.2993678</td><td>N</td><td>0</td></tr>\n",
       "\t<tr><td>-2.404073</td><td>M</td><td>-0.2935563</td><td> 0.3275190</td><td>Normal</td><td>0.2189229</td><td>N</td><td>0</td></tr>\n",
       "\t<tr><td>-2.404073</td><td>M</td><td> 0.9287601</td><td> 0.5213924</td><td>Normal</td><td>0.6511009</td><td>N</td><td>0</td></tr>\n",
       "\t<tr><td>⋮</td><td>⋮</td><td>⋮</td><td>⋮</td><td>⋮</td><td>⋮</td><td>⋮</td><td>⋮</td></tr>\n",
       "\t<tr><td>1.046479</td><td>M</td><td>-0.2935563</td><td>-0.08930891</td><td>Normal</td><td> 0.2189229</td><td>Y</td><td>0</td></tr>\n",
       "\t<tr><td>1.046479</td><td>M</td><td>-0.4157880</td><td> 0.09487085</td><td>Normal</td><td>-0.6454329</td><td>N</td><td>1</td></tr>\n",
       "\t<tr><td>1.046479</td><td>M</td><td> 0.9287601</td><td> 1.08362533</td><td>LVH   </td><td> 1.1697144</td><td>N</td><td>0</td></tr>\n",
       "</tbody>\n",
       "</table>\n"
      ],
      "text/latex": [
       "A tibble: 61 × 8\n",
       "\\begin{tabular}{llllllll}\n",
       " scaled\\_age & Sex & scaled\\_BP & scaled\\_cholesterol & RestingECG & scaled\\_HR\\_max & ExerciseAngina & HeartDisease\\\\\n",
       " <dbl{[},1{]}> & <fct> & <dbl{[},1{]}> & <dbl{[},1{]}> & <fct> & <dbl{[},1{]}> & <fct> & <fct>\\\\\n",
       "\\hline\n",
       "\t -2.749129 & M &  0.3176019 & -0.7484786 & LVH    & 1.2993678 & N & 0\\\\\n",
       "\t -2.404073 & M & -0.2935563 &  0.3275190 & Normal & 0.2189229 & N & 0\\\\\n",
       "\t -2.404073 & M &  0.9287601 &  0.5213924 & Normal & 0.6511009 & N & 0\\\\\n",
       "\t ⋮ & ⋮ & ⋮ & ⋮ & ⋮ & ⋮ & ⋮ & ⋮\\\\\n",
       "\t 1.046479 & M & -0.2935563 & -0.08930891 & Normal &  0.2189229 & Y & 0\\\\\n",
       "\t 1.046479 & M & -0.4157880 &  0.09487085 & Normal & -0.6454329 & N & 1\\\\\n",
       "\t 1.046479 & M &  0.9287601 &  1.08362533 & LVH    &  1.1697144 & N & 0\\\\\n",
       "\\end{tabular}\n"
      ],
      "text/markdown": [
       "\n",
       "A tibble: 61 × 8\n",
       "\n",
       "| scaled_age &lt;dbl[,1]&gt; | Sex &lt;fct&gt; | scaled_BP &lt;dbl[,1]&gt; | scaled_cholesterol &lt;dbl[,1]&gt; | RestingECG &lt;fct&gt; | scaled_HR_max &lt;dbl[,1]&gt; | ExerciseAngina &lt;fct&gt; | HeartDisease &lt;fct&gt; |\n",
       "|---|---|---|---|---|---|---|---|\n",
       "| -2.749129 | M |  0.3176019 | -0.7484786 | LVH    | 1.2993678 | N | 0 |\n",
       "| -2.404073 | M | -0.2935563 |  0.3275190 | Normal | 0.2189229 | N | 0 |\n",
       "| -2.404073 | M |  0.9287601 |  0.5213924 | Normal | 0.6511009 | N | 0 |\n",
       "| ⋮ | ⋮ | ⋮ | ⋮ | ⋮ | ⋮ | ⋮ | ⋮ |\n",
       "| 1.046479 | M | -0.2935563 | -0.08930891 | Normal |  0.2189229 | Y | 0 |\n",
       "| 1.046479 | M | -0.4157880 |  0.09487085 | Normal | -0.6454329 | N | 1 |\n",
       "| 1.046479 | M |  0.9287601 |  1.08362533 | LVH    |  1.1697144 | N | 0 |\n",
       "\n"
      ],
      "text/plain": [
       "   scaled_age Sex scaled_BP  scaled_cholesterol RestingECG scaled_HR_max\n",
       "1  -2.749129  M    0.3176019 -0.7484786         LVH        1.2993678    \n",
       "2  -2.404073  M   -0.2935563  0.3275190         Normal     0.2189229    \n",
       "3  -2.404073  M    0.9287601  0.5213924         Normal     0.6511009    \n",
       "⋮  ⋮          ⋮   ⋮          ⋮                  ⋮          ⋮            \n",
       "59 1.046479   M   -0.2935563 -0.08930891        Normal      0.2189229   \n",
       "60 1.046479   M   -0.4157880  0.09487085        Normal     -0.6454329   \n",
       "61 1.046479   M    0.9287601  1.08362533        LVH         1.1697144   \n",
       "   ExerciseAngina HeartDisease\n",
       "1  N              0           \n",
       "2  N              0           \n",
       "3  N              0           \n",
       "⋮  ⋮              ⋮           \n",
       "59 Y              0           \n",
       "60 N              1           \n",
       "61 N              0           "
      ]
     },
     "metadata": {},
     "output_type": "display_data"
    }
   ],
   "source": [
    "## Preliminary exploratory data analysis\n",
    "heart_data <- read_csv(\"heart.csv\") |>\n",
    "    select(Age, Sex, RestingBP, Cholesterol, RestingECG, MaxHR, ExerciseAngina, HeartDisease) |>\n",
    "    filter(Sex == \"M\", Age > 24, Age < 40) |>\n",
    "    mutate(Sex = as.factor(Sex), \n",
    "           RestingECG = as.factor(RestingECG), \n",
    "           ExerciseAngina = as.factor(ExerciseAngina), \n",
    "           HeartDisease = as.factor(HeartDisease)) |>\n",
    "    arrange(Age)\n",
    "heart_data\n",
    "\n",
    "\n",
    "scaled_heart_data <- heart_data |>\n",
    "    mutate(scaled_age = scale(Age, center = TRUE), \n",
    "           scaled_BP = scale(RestingBP, center = TRUE),\n",
    "           scaled_cholesterol = scale(Cholesterol, center = TRUE),\n",
    "           scaled_HR_max = scale(MaxHR, center = TRUE)) |>\n",
    "    select(scaled_age, Sex, scaled_BP, scaled_cholesterol, RestingECG, scaled_HR_max, ExerciseAngina, HeartDisease)\n",
    "scaled_heart_data\n",
    "\n",
    "\n",
    "set.seed(0)\n",
    "heart_split <- initial_split(scaled_heart_data, prop = 0.75, strata = HeartDisease)  \n",
    "heart_train <- \n",
    "heart_\n"
   ]
  },
  {
   "cell_type": "code",
   "execution_count": null,
   "id": "a646010c-a841-4335-86f6-97ba6dbb44a7",
   "metadata": {},
   "outputs": [],
   "source": []
  },
  {
   "cell_type": "code",
   "execution_count": null,
   "id": "02df4ed3-2efa-454b-8de6-5028bc0862ee",
   "metadata": {},
   "outputs": [],
   "source": []
  }
 ],
 "metadata": {
  "kernelspec": {
   "display_name": "R",
   "language": "R",
   "name": "ir"
  },
  "language_info": {
   "codemirror_mode": "r",
   "file_extension": ".r",
   "mimetype": "text/x-r-source",
   "name": "R",
   "pygments_lexer": "r",
   "version": "4.1.3"
  }
 },
 "nbformat": 4,
 "nbformat_minor": 5
}
